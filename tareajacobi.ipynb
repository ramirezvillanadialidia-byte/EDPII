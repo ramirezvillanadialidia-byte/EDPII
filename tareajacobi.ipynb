{
  "nbformat": 4,
  "nbformat_minor": 0,
  "metadata": {
    "colab": {
      "provenance": [],
      "authorship_tag": "ABX9TyN49V3CfoX/5WiNxQvV3r8a",
      "include_colab_link": true
    },
    "kernelspec": {
      "name": "python3",
      "display_name": "Python 3"
    },
    "language_info": {
      "name": "python"
    }
  },
  "cells": [
    {
      "cell_type": "markdown",
      "metadata": {
        "id": "view-in-github",
        "colab_type": "text"
      },
      "source": [
        "<a href=\"https://colab.research.google.com/github/ramirezvillanadialidia-byte/EDPII/blob/main/tareajacobi.ipynb\" target=\"_parent\"><img src=\"https://colab.research.google.com/assets/colab-badge.svg\" alt=\"Open In Colab\"/></a>"
      ]
    },
    {
      "cell_type": "code",
      "execution_count": 1,
      "metadata": {
        "colab": {
          "base_uri": "https://localhost:8080/"
        },
        "id": "fxBWSit31GzH",
        "outputId": "6f91a972-4022-48ef-f30b-d62208805cab"
      },
      "outputs": [
        {
          "output_type": "stream",
          "name": "stdout",
          "text": [
            " Iter    Error      u11      u21      u12      u22\n",
            "    1 0.388889 0.000000 0.222222 0.166667 0.388889\n",
            "    2 0.097222 0.097222 0.319444 0.263889 0.486111\n",
            "    3 0.048611 0.145833 0.368056 0.312500 0.534722\n",
            "    4 0.024306 0.170139 0.392361 0.336806 0.559028\n",
            "    5 0.012153 0.182292 0.404514 0.348958 0.571181\n",
            "    6 0.006076 0.188368 0.410590 0.355035 0.577257\n",
            "    7 0.003038 0.191406 0.413628 0.358073 0.580295\n",
            "    8 0.001519 0.192925 0.415148 0.359592 0.581814\n",
            "    9 0.000760 0.193685 0.415907 0.360352 0.582574\n",
            "   10 0.000380 0.194065 0.416287 0.360731 0.582954\n",
            "   11 0.000190 0.194255 0.416477 0.360921 0.583143\n",
            "   12 0.000095 0.194350 0.416572 0.361016 0.583238\n",
            "   13 0.000047 0.194397 0.416619 0.361064 0.583286\n",
            "   14 0.000024 0.194421 0.416643 0.361087 0.583310\n",
            "   15 0.000012 0.194433 0.416655 0.361099 0.583321\n",
            "   16 0.000006 0.194439 0.416661 0.361105 0.583327\n"
          ]
        }
      ],
      "source": [
        "import numpy as np\n",
        "import pandas as pd\n",
        "\n",
        "# Parámetros del problema\n",
        "N = 2               # número de divisiones en cada eje (porque h = 2/3 en [0,2])\n",
        "h = 2/3\n",
        "tol = 1e-5\n",
        "max_iter = 100\n",
        "\n",
        "# Mallado: nodos interiores son (1,1), (2,1), (1,2), (2,2) en índices\n",
        "# Creamos la malla (4x4 nodos incluyendo fronteras)\n",
        "u = np.zeros((N+2, N+2))\n",
        "\n",
        "# Condiciones de frontera\n",
        "x_vals = np.linspace(0, 2, N+2)\n",
        "y_vals = np.linspace(0, 2, N+2)\n",
        "\n",
        "# Frontera en x=0 → u=0\n",
        "u[0, :] = 0\n",
        "# Frontera en x=2 → u = y(2-y)\n",
        "u[-1, :] = y_vals * (2 - y_vals)\n",
        "# Frontera en y=0 → u=0\n",
        "u[:, 0] = 0\n",
        "# Frontera en y=2\n",
        "for i, x in enumerate(x_vals):\n",
        "    if x < 1:\n",
        "        u[i, -1] = x\n",
        "    else:\n",
        "        u[i, -1] = 2 - x\n",
        "\n",
        "# Método de Jacobi\n",
        "def jacobi(u, N, tol, max_iter):\n",
        "    results = []\n",
        "    for k in range(1, max_iter+1):\n",
        "        u_new = u.copy()\n",
        "        # actualizamos solo los nodos interiores\n",
        "        for i in range(1, N+1):\n",
        "            for j in range(1, N+1):\n",
        "                u_new[i, j] = 0.25*(u[i+1, j] + u[i-1, j] + u[i, j+1] + u[i, j-1])\n",
        "\n",
        "        error = np.max(np.abs(u_new - u))\n",
        "        results.append([k, error, u_new[1,1], u_new[2,1], u_new[1,2], u_new[2,2]])\n",
        "\n",
        "        if error < tol:\n",
        "            break\n",
        "        u = u_new\n",
        "    return results\n",
        "\n",
        "# Ejecutamos\n",
        "res = jacobi(u, N, tol, max_iter)\n",
        "\n",
        "# Imprimir resultados como tabla\n",
        "df = pd.DataFrame(res, columns=[\"Iter\", \"Error\", \"u11\", \"u21\", \"u12\", \"u22\"])\n",
        "print(df.to_string(index=False))"
      ]
    }
  ]
}