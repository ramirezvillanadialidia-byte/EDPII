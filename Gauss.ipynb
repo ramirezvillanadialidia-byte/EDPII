{
  "nbformat": 4,
  "nbformat_minor": 0,
  "metadata": {
    "colab": {
      "provenance": [],
      "authorship_tag": "ABX9TyMbZtqj6OKVWNGnd1KevkeK",
      "include_colab_link": true
    },
    "kernelspec": {
      "name": "python3",
      "display_name": "Python 3"
    },
    "language_info": {
      "name": "python"
    }
  },
  "cells": [
    {
      "cell_type": "markdown",
      "metadata": {
        "id": "view-in-github",
        "colab_type": "text"
      },
      "source": [
        "<a href=\"https://colab.research.google.com/github/ramirezvillanadialidia-byte/EDPII/blob/main/Gauss.ipynb\" target=\"_parent\"><img src=\"https://colab.research.google.com/assets/colab-badge.svg\" alt=\"Open In Colab\"/></a>"
      ]
    },
    {
      "cell_type": "code",
      "execution_count": 1,
      "metadata": {
        "colab": {
          "base_uri": "https://localhost:8080/"
        },
        "id": "QUsl5EvMX4zF",
        "outputId": "3107cde2-0577-4285-905a-199d3ee9d42c"
      },
      "outputs": [
        {
          "output_type": "stream",
          "name": "stdout",
          "text": [
            "Convergió en 2 iteraciones.\n",
            "Solución aproximada: [1. 1.]\n"
          ]
        }
      ],
      "source": [
        "import numpy as np\n",
        "\n",
        "def gauss_seidel(A, b, x0=None, tol=1e-6, max_iter=100):\n",
        "    \"\"\"\n",
        "    Usando el método de Gauss-Seidel.\n",
        "    A : matriz cuadrada\n",
        "    b : vector columna\n",
        "    x0: aproximación inicial\n",
        "    tol: tolerancia para ||x - x_old||\n",
        "    max_iter: número máximo de iteraciones\n",
        "    \"\"\"\n",
        "    n = len(b)\n",
        "    x = np.zeros_like(b, dtype=float) if x0 is None else x0.astype(float)\n",
        "\n",
        "    for k in range(1, max_iter + 1):\n",
        "        x_old = x.copy()\n",
        "        for i in range(n):\n",
        "            # suma con valores ya actualizados y los que aún no\n",
        "            sigma1 = np.dot(A[i, :i], x[:i])\n",
        "            sigma2 = np.dot(A[i, i+1:], x_old[i+1:])\n",
        "            x[i] = (b[i] - sigma1 - sigma2) / A[i, i]\n",
        "        # criterio de parada con norma infinito\n",
        "        if np.linalg.norm(x - x_old, ord=np.inf) < tol:\n",
        "            print(f\"Convergió en {k} iteraciones.\")\n",
        "            return x\n",
        "    print(\"Se alcanzó el número máximo de iteraciones.\")\n",
        "    return x\n",
        "\n",
        "#  Para el ejercicio 2(b)\n",
        "A = np.array([[10.0, 0.0],\n",
        "              [15.0, 1.0]])\n",
        "b = np.array([10.0, 16.0])   # Cambia aquí si tienes otro vector b\n",
        "x0 = np.zeros(2)\n",
        "\n",
        "sol = gauss_seidel(A, b, x0, tol=1e-6, max_iter=100)\n",
        "print(\"Solución aproximada:\", sol)"
      ]
    }
  ]
}