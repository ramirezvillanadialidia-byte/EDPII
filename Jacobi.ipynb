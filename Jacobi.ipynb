import numpy as np
import pandas as pd

# Parámetros del problema
N = 2               # número de subdivisiones en cada eje (porque h = 2/3 en [0,2])
h = 2/3
tol = 1e-5
max_iter = 100

# Mallado: nodos interiores son (1,1), (2,1), (1,2), (2,2) en índices
# Creamos la malla (4x4 nodos incluyendo fronteras)
u = np.zeros((N+2, N+2))

# Condiciones de frontera
x_vals = np.linspace(0, 2, N+2)
y_vals = np.linspace(0, 2, N+2)

# Frontera en x=0 → u=0
u[0, :] = 0
# Frontera en x=2 → u = y(2-y)
u[-1, :] = y_vals * (2 - y_vals)
# Frontera en y=0 → u=0
u[:, 0] = 0
# Frontera en y=2
for i, x in enumerate(x_vals):
    if x < 1:
        u[i, -1] = x
    else:
        u[i, -1] = 2 - x

# Método de Jacobi
def jacobi(u, N, tol, max_iter):
    results = []
    for k in range(1, max_iter+1):
        u_new = u.copy()
        # actualizamos solo los nodos interiores
        for i in range(1, N+1):
            for j in range(1, N+1):
                u_new[i, j] = 0.25*(u[i+1, j] + u[i-1, j] + u[i, j+1] + u[i, j-1])
        
        error = np.max(np.abs(u_new - u))
        results.append([k, error, u_new[1,1], u_new[2,1], u_new[1,2], u_new[2,2]])
        
        if error < tol:
            break
        u = u_new
    return results

# Ejecutamos
res = jacobi(u, N, tol, max_iter)

# Imprimir resultados como tabla
df = pd.DataFrame(res, columns=["Iter", "Error", "u11", "u21", "u12", "u22"])
print(df.to_string(index=False))
