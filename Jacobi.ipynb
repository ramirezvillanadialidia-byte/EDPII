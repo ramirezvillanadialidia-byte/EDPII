{
  "nbformat": 4,
  "nbformat_minor": 0,
  "metadata": {
    "colab": {
      "provenance": []
    },
    "kernelspec": {
      "name": "python3",
      "display_name": "Python 3"
    },
    "language_info": {
      "name": "python"
    }
  },
  "cells": [
    {
      "cell_type": "code",
      "execution_count": 4,
      "metadata": {
        "colab": {
          "base_uri": "https://localhost:8080/"
        },
        "id": "Mn6lwAQFGRUU",
        "outputId": "a3dd803b-6b39-41ce-e111-48266dc9fb91"
      },
      "outputs": [
        {
          "output_type": "stream",
          "name": "stdout",
          "text": [
            " Iteración       u11       u21       u12       u22\n",
            "         1 30.208313 22.916645 22.916645 11.458313\n",
            "         2 30.208313 22.916645 22.916645 11.458313\n",
            "         3 30.208313 22.916645 22.916645 11.458313\n",
            "         4 30.208313 22.916645 22.916645 11.458313\n",
            "         5 30.208313 22.916645 22.916645 11.458313\n",
            "         6 30.208313 22.916645 22.916645 11.458313\n",
            "         7 30.208313 22.916645 22.916645 11.458313\n",
            "         8 30.208313 22.916645 22.916645 11.458313\n",
            "         9 30.208313 22.916645 22.916645 11.458313\n",
            "        10 30.208313 22.916645 22.916645 11.458313\n",
            "        11 30.208313 22.916645 22.916645 11.458313\n",
            "        12 30.208313 22.916645 22.916645 11.458313\n",
            "        13 30.208313 22.916645 22.916645 11.458313\n",
            "        14 30.208313 22.916645 22.916645 11.458313\n",
            "        15 30.208313 22.916645 22.916645 11.458313\n",
            "        16 30.208313 22.916645 22.916645 11.458313\n",
            "        17 30.208313 22.916645 22.916645 11.458313\n",
            "        18 30.208313 22.916645 22.916645 11.458313\n",
            "        19 30.208313 22.916645 22.916645 11.458313\n",
            "        20 30.208313 22.916645 22.916645 11.458313\n"
          ]
        }
      ],
      "source": [
        "import numpy as np\n",
        "import pandas as pd\n",
        "\n",
        "# Programa Jacobi para el problema 3, de malla 2/3\n",
        "\n",
        "# Definimos el sistema de ecuaciones del problema 3\n",
        "A = np.array([[4, -1, -1, 0],\n",
        "              [-1, 4, 0, -1],\n",
        "              [-1, 0, 4, -1],\n",
        "              [0, -1, -1, 4]], dtype=float)\n",
        "\n",
        "b = np.array([75, 50, 50, 0], dtype=float)\n",
        "\n",
        "#Siguiendo el algoritmo dado por el profesor tenemos:\n",
        "\n",
        "# Paso 1: Elegir un valor inicial (vector cero)\n",
        "u = np.zeros(len(b))\n",
        "\n",
        "# Parámetros del método\n",
        "max_iter = 20   # número máximo de iteraciones\n",
        "tol = 1e-6      # tolerancia\n",
        "\n",
        "# Para guardar los resultados\n",
        "tabla = []\n",
        "\n",
        "#Aquí quisiera aclarar que se me facilito un poco más usar un ciclo for, en lugar\n",
        "#de un ciclo while, al final obtenia los mismos resultados\n",
        "\n",
        "# Paso 2: Mientras no se cumpla el criterio de paro\n",
        "\n",
        "for k in range(max_iter):\n",
        "    u_n = np.zeros_like(u)\n",
        "\n",
        "    # Paso 3: Calcular cada valor de u con la fórmula de Jacobi\n",
        "    for i in range(len(b)):\n",
        "        suma = 0\n",
        "        for j in range(len(b)):\n",
        "            if j != i:\n",
        "                suma += A[i, j] * u[j]\n",
        "        u_n[i] = (b[i] - suma) / A[i, i]\n",
        "\n",
        "    # Guardamos en tabla\n",
        "    tabla.append([k+1] + list(u_new))\n",
        "\n",
        "    # Paso 4: Verificar tolerancia\n",
        "    if np.linalg.norm(u_n - u, ord=np.inf) < tol:\n",
        "        break\n",
        "\n",
        "    # Paso 6: Reemplazar u^(k) <- u^(k+1)\n",
        "    u = u_n\n",
        "\n",
        "# Mostrar resultados en tabla\n",
        "df = pd.DataFrame(tabla, columns=[\"Iteración\", \"u11\", \"u21\", \"u12\", \"u22\"])\n",
        "print(df.to_string(index=False))"
      ]
    }
  ]
}